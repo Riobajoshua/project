{
  "cells": [
    {
      "cell_type": "markdown",
      "metadata": {
        "id": "view-in-github",
        "colab_type": "text"
      },
      "source": [
        "<a href=\"https://colab.research.google.com/github/Riobajoshua/project/blob/main/student_enrollment.ipynb\" target=\"_parent\"><img src=\"https://colab.research.google.com/assets/colab-badge.svg\" alt=\"Open In Colab\"/></a>"
      ]
    },
    {
      "cell_type": "code",
      "source": [
        "import pandas as pd\n",
        "import numpy as np\n",
        "mydata=\"/content/student-enrollment-in-public-universities-2007-08-to-2012-13-csv-1.csv\"\n",
        "data=pd.read_csv(mydata)\n",
        "data.info()"
      ],
      "metadata": {
        "colab": {
          "base_uri": "https://localhost:8080/"
        },
        "id": "ao5emk0BDyWL",
        "outputId": "1f7a98d0-a855-4a0a-aa9b-891aa82ac819"
      },
      "id": "ao5emk0BDyWL",
      "execution_count": 9,
      "outputs": [
        {
          "output_type": "stream",
          "name": "stdout",
          "text": [
            "<class 'pandas.core.frame.DataFrame'>\n",
            "RangeIndex: 3 entries, 0 to 2\n",
            "Data columns (total 7 columns):\n",
            " #   Column   Non-Null Count  Dtype \n",
            "---  ------   --------------  ----- \n",
            " 0   Fields   3 non-null      object\n",
            " 1   2007/08  3 non-null      int64 \n",
            " 2   2008/09  3 non-null      int64 \n",
            " 3   2009/10  3 non-null      int64 \n",
            " 4   2010/11  3 non-null      int64 \n",
            " 5   2011/12  3 non-null      int64 \n",
            " 6   2012/13  3 non-null      int64 \n",
            "dtypes: int64(6), object(1)\n",
            "memory usage: 296.0+ bytes\n"
          ]
        }
      ]
    },
    {
      "cell_type": "code",
      "source": [
        "import pandas as pd\n",
        "import numpy as np\n",
        "import seaborn as sns\n",
        "import matplotlib.pyplot as plt\n",
        "mydata=\"/content/student-enrollment-in-public-universities-2007-08-to-2012-13-csv-1.csv\"\n",
        "data=pd.read_csv(mydata)\n",
        "data.info()\n"
      ],
      "metadata": {
        "colab": {
          "base_uri": "https://localhost:8080/"
        },
        "id": "77V_rx9pD6p0",
        "outputId": "9b335f52-9fee-46ab-c618-6e6fd68c341f"
      },
      "id": "77V_rx9pD6p0",
      "execution_count": 11,
      "outputs": [
        {
          "output_type": "stream",
          "name": "stdout",
          "text": [
            "<class 'pandas.core.frame.DataFrame'>\n",
            "RangeIndex: 3 entries, 0 to 2\n",
            "Data columns (total 7 columns):\n",
            " #   Column   Non-Null Count  Dtype \n",
            "---  ------   --------------  ----- \n",
            " 0   Fields   3 non-null      object\n",
            " 1   2007/08  3 non-null      int64 \n",
            " 2   2008/09  3 non-null      int64 \n",
            " 3   2009/10  3 non-null      int64 \n",
            " 4   2010/11  3 non-null      int64 \n",
            " 5   2011/12  3 non-null      int64 \n",
            " 6   2012/13  3 non-null      int64 \n",
            "dtypes: int64(6), object(1)\n",
            "memory usage: 296.0+ bytes\n"
          ]
        }
      ]
    },
    {
      "cell_type": "code",
      "source": [
        "import pandas as pd\n",
        "import numpy as np\n",
        "import seaborn as sns\n",
        "\n",
        "df=pd.read_csv(r\"/content/student-enrollment-in-public-universities-2007-08-to-2012-13-csv-1.csv\")\n",
        "df.head()"
      ],
      "metadata": {
        "colab": {
          "base_uri": "https://localhost:8080/",
          "height": 143
        },
        "id": "cwbQdPaGEY7c",
        "outputId": "cda9b473-e5dd-4ff5-fc1c-6018937673fb"
      },
      "id": "cwbQdPaGEY7c",
      "execution_count": 13,
      "outputs": [
        {
          "output_type": "execute_result",
          "data": {
            "text/plain": [
              "                      Fields  2007/08  2008/09  2009/10  2010/11  2011/12  \\\n",
              "0  Other, i.e. Diploma, etc.     4967     4324     7118     7796     5904   \n",
              "1              Postgraduates     6789     6920     7054     8735    16153   \n",
              "2             Undergraduates    85351    89404   108528   134395   141764   \n",
              "\n",
              "   2012/13  \n",
              "0     6856  \n",
              "1    24417  \n",
              "2   170417  "
            ],
            "text/html": [
              "\n",
              "  <div id=\"df-b7eccf94-1712-418d-9a29-5f093b55354d\">\n",
              "    <div class=\"colab-df-container\">\n",
              "      <div>\n",
              "<style scoped>\n",
              "    .dataframe tbody tr th:only-of-type {\n",
              "        vertical-align: middle;\n",
              "    }\n",
              "\n",
              "    .dataframe tbody tr th {\n",
              "        vertical-align: top;\n",
              "    }\n",
              "\n",
              "    .dataframe thead th {\n",
              "        text-align: right;\n",
              "    }\n",
              "</style>\n",
              "<table border=\"1\" class=\"dataframe\">\n",
              "  <thead>\n",
              "    <tr style=\"text-align: right;\">\n",
              "      <th></th>\n",
              "      <th>Fields</th>\n",
              "      <th>2007/08</th>\n",
              "      <th>2008/09</th>\n",
              "      <th>2009/10</th>\n",
              "      <th>2010/11</th>\n",
              "      <th>2011/12</th>\n",
              "      <th>2012/13</th>\n",
              "    </tr>\n",
              "  </thead>\n",
              "  <tbody>\n",
              "    <tr>\n",
              "      <th>0</th>\n",
              "      <td>Other, i.e. Diploma, etc.</td>\n",
              "      <td>4967</td>\n",
              "      <td>4324</td>\n",
              "      <td>7118</td>\n",
              "      <td>7796</td>\n",
              "      <td>5904</td>\n",
              "      <td>6856</td>\n",
              "    </tr>\n",
              "    <tr>\n",
              "      <th>1</th>\n",
              "      <td>Postgraduates</td>\n",
              "      <td>6789</td>\n",
              "      <td>6920</td>\n",
              "      <td>7054</td>\n",
              "      <td>8735</td>\n",
              "      <td>16153</td>\n",
              "      <td>24417</td>\n",
              "    </tr>\n",
              "    <tr>\n",
              "      <th>2</th>\n",
              "      <td>Undergraduates</td>\n",
              "      <td>85351</td>\n",
              "      <td>89404</td>\n",
              "      <td>108528</td>\n",
              "      <td>134395</td>\n",
              "      <td>141764</td>\n",
              "      <td>170417</td>\n",
              "    </tr>\n",
              "  </tbody>\n",
              "</table>\n",
              "</div>\n",
              "      <button class=\"colab-df-convert\" onclick=\"convertToInteractive('df-b7eccf94-1712-418d-9a29-5f093b55354d')\"\n",
              "              title=\"Convert this dataframe to an interactive table.\"\n",
              "              style=\"display:none;\">\n",
              "        \n",
              "  <svg xmlns=\"http://www.w3.org/2000/svg\" height=\"24px\"viewBox=\"0 0 24 24\"\n",
              "       width=\"24px\">\n",
              "    <path d=\"M0 0h24v24H0V0z\" fill=\"none\"/>\n",
              "    <path d=\"M18.56 5.44l.94 2.06.94-2.06 2.06-.94-2.06-.94-.94-2.06-.94 2.06-2.06.94zm-11 1L8.5 8.5l.94-2.06 2.06-.94-2.06-.94L8.5 2.5l-.94 2.06-2.06.94zm10 10l.94 2.06.94-2.06 2.06-.94-2.06-.94-.94-2.06-.94 2.06-2.06.94z\"/><path d=\"M17.41 7.96l-1.37-1.37c-.4-.4-.92-.59-1.43-.59-.52 0-1.04.2-1.43.59L10.3 9.45l-7.72 7.72c-.78.78-.78 2.05 0 2.83L4 21.41c.39.39.9.59 1.41.59.51 0 1.02-.2 1.41-.59l7.78-7.78 2.81-2.81c.8-.78.8-2.07 0-2.86zM5.41 20L4 18.59l7.72-7.72 1.47 1.35L5.41 20z\"/>\n",
              "  </svg>\n",
              "      </button>\n",
              "      \n",
              "  <style>\n",
              "    .colab-df-container {\n",
              "      display:flex;\n",
              "      flex-wrap:wrap;\n",
              "      gap: 12px;\n",
              "    }\n",
              "\n",
              "    .colab-df-convert {\n",
              "      background-color: #E8F0FE;\n",
              "      border: none;\n",
              "      border-radius: 50%;\n",
              "      cursor: pointer;\n",
              "      display: none;\n",
              "      fill: #1967D2;\n",
              "      height: 32px;\n",
              "      padding: 0 0 0 0;\n",
              "      width: 32px;\n",
              "    }\n",
              "\n",
              "    .colab-df-convert:hover {\n",
              "      background-color: #E2EBFA;\n",
              "      box-shadow: 0px 1px 2px rgba(60, 64, 67, 0.3), 0px 1px 3px 1px rgba(60, 64, 67, 0.15);\n",
              "      fill: #174EA6;\n",
              "    }\n",
              "\n",
              "    [theme=dark] .colab-df-convert {\n",
              "      background-color: #3B4455;\n",
              "      fill: #D2E3FC;\n",
              "    }\n",
              "\n",
              "    [theme=dark] .colab-df-convert:hover {\n",
              "      background-color: #434B5C;\n",
              "      box-shadow: 0px 1px 3px 1px rgba(0, 0, 0, 0.15);\n",
              "      filter: drop-shadow(0px 1px 2px rgba(0, 0, 0, 0.3));\n",
              "      fill: #FFFFFF;\n",
              "    }\n",
              "  </style>\n",
              "\n",
              "      <script>\n",
              "        const buttonEl =\n",
              "          document.querySelector('#df-b7eccf94-1712-418d-9a29-5f093b55354d button.colab-df-convert');\n",
              "        buttonEl.style.display =\n",
              "          google.colab.kernel.accessAllowed ? 'block' : 'none';\n",
              "\n",
              "        async function convertToInteractive(key) {\n",
              "          const element = document.querySelector('#df-b7eccf94-1712-418d-9a29-5f093b55354d');\n",
              "          const dataTable =\n",
              "            await google.colab.kernel.invokeFunction('convertToInteractive',\n",
              "                                                     [key], {});\n",
              "          if (!dataTable) return;\n",
              "\n",
              "          const docLinkHtml = 'Like what you see? Visit the ' +\n",
              "            '<a target=\"_blank\" href=https://colab.research.google.com/notebooks/data_table.ipynb>data table notebook</a>'\n",
              "            + ' to learn more about interactive tables.';\n",
              "          element.innerHTML = '';\n",
              "          dataTable['output_type'] = 'display_data';\n",
              "          await google.colab.output.renderOutput(dataTable, element);\n",
              "          const docLink = document.createElement('div');\n",
              "          docLink.innerHTML = docLinkHtml;\n",
              "          element.appendChild(docLink);\n",
              "        }\n",
              "      </script>\n",
              "    </div>\n",
              "  </div>\n",
              "  "
            ]
          },
          "metadata": {},
          "execution_count": 13
        }
      ]
    },
    {
      "cell_type": "code",
      "source": [
        "df.info()\n",
        "df.describe()\n"
      ],
      "metadata": {
        "colab": {
          "base_uri": "https://localhost:8080/",
          "height": 543
        },
        "id": "5QDOOTBPE6ol",
        "outputId": "4091364c-1f27-4629-e5fd-b2f0e695ea45"
      },
      "id": "5QDOOTBPE6ol",
      "execution_count": 14,
      "outputs": [
        {
          "output_type": "stream",
          "name": "stdout",
          "text": [
            "<class 'pandas.core.frame.DataFrame'>\n",
            "RangeIndex: 3 entries, 0 to 2\n",
            "Data columns (total 7 columns):\n",
            " #   Column   Non-Null Count  Dtype \n",
            "---  ------   --------------  ----- \n",
            " 0   Fields   3 non-null      object\n",
            " 1   2007/08  3 non-null      int64 \n",
            " 2   2008/09  3 non-null      int64 \n",
            " 3   2009/10  3 non-null      int64 \n",
            " 4   2010/11  3 non-null      int64 \n",
            " 5   2011/12  3 non-null      int64 \n",
            " 6   2012/13  3 non-null      int64 \n",
            "dtypes: int64(6), object(1)\n",
            "memory usage: 296.0+ bytes\n"
          ]
        },
        {
          "output_type": "execute_result",
          "data": {
            "text/plain": [
              "            2007/08       2008/09        2009/10        2010/11  \\\n",
              "count      3.000000      3.000000       3.000000       3.000000   \n",
              "mean   32369.000000  33549.333333   40900.000000   50308.666667   \n",
              "std    45892.800786  48388.972353   58567.574749   72822.414272   \n",
              "min     4967.000000   4324.000000    7054.000000    7796.000000   \n",
              "25%     5878.000000   5622.000000    7086.000000    8265.500000   \n",
              "50%     6789.000000   6920.000000    7118.000000    8735.000000   \n",
              "75%    46070.000000  48162.000000   57823.000000   71565.000000   \n",
              "max    85351.000000  89404.000000  108528.000000  134395.000000   \n",
              "\n",
              "             2011/12        2012/13  \n",
              "count       3.000000       3.000000  \n",
              "mean    54607.000000   67230.000000  \n",
              "std     75653.932396   89792.900092  \n",
              "min      5904.000000    6856.000000  \n",
              "25%     11028.500000   15636.500000  \n",
              "50%     16153.000000   24417.000000  \n",
              "75%     78958.500000   97417.000000  \n",
              "max    141764.000000  170417.000000  "
            ],
            "text/html": [
              "\n",
              "  <div id=\"df-679446ff-9385-45bb-8841-f48dbaa5f81f\">\n",
              "    <div class=\"colab-df-container\">\n",
              "      <div>\n",
              "<style scoped>\n",
              "    .dataframe tbody tr th:only-of-type {\n",
              "        vertical-align: middle;\n",
              "    }\n",
              "\n",
              "    .dataframe tbody tr th {\n",
              "        vertical-align: top;\n",
              "    }\n",
              "\n",
              "    .dataframe thead th {\n",
              "        text-align: right;\n",
              "    }\n",
              "</style>\n",
              "<table border=\"1\" class=\"dataframe\">\n",
              "  <thead>\n",
              "    <tr style=\"text-align: right;\">\n",
              "      <th></th>\n",
              "      <th>2007/08</th>\n",
              "      <th>2008/09</th>\n",
              "      <th>2009/10</th>\n",
              "      <th>2010/11</th>\n",
              "      <th>2011/12</th>\n",
              "      <th>2012/13</th>\n",
              "    </tr>\n",
              "  </thead>\n",
              "  <tbody>\n",
              "    <tr>\n",
              "      <th>count</th>\n",
              "      <td>3.000000</td>\n",
              "      <td>3.000000</td>\n",
              "      <td>3.000000</td>\n",
              "      <td>3.000000</td>\n",
              "      <td>3.000000</td>\n",
              "      <td>3.000000</td>\n",
              "    </tr>\n",
              "    <tr>\n",
              "      <th>mean</th>\n",
              "      <td>32369.000000</td>\n",
              "      <td>33549.333333</td>\n",
              "      <td>40900.000000</td>\n",
              "      <td>50308.666667</td>\n",
              "      <td>54607.000000</td>\n",
              "      <td>67230.000000</td>\n",
              "    </tr>\n",
              "    <tr>\n",
              "      <th>std</th>\n",
              "      <td>45892.800786</td>\n",
              "      <td>48388.972353</td>\n",
              "      <td>58567.574749</td>\n",
              "      <td>72822.414272</td>\n",
              "      <td>75653.932396</td>\n",
              "      <td>89792.900092</td>\n",
              "    </tr>\n",
              "    <tr>\n",
              "      <th>min</th>\n",
              "      <td>4967.000000</td>\n",
              "      <td>4324.000000</td>\n",
              "      <td>7054.000000</td>\n",
              "      <td>7796.000000</td>\n",
              "      <td>5904.000000</td>\n",
              "      <td>6856.000000</td>\n",
              "    </tr>\n",
              "    <tr>\n",
              "      <th>25%</th>\n",
              "      <td>5878.000000</td>\n",
              "      <td>5622.000000</td>\n",
              "      <td>7086.000000</td>\n",
              "      <td>8265.500000</td>\n",
              "      <td>11028.500000</td>\n",
              "      <td>15636.500000</td>\n",
              "    </tr>\n",
              "    <tr>\n",
              "      <th>50%</th>\n",
              "      <td>6789.000000</td>\n",
              "      <td>6920.000000</td>\n",
              "      <td>7118.000000</td>\n",
              "      <td>8735.000000</td>\n",
              "      <td>16153.000000</td>\n",
              "      <td>24417.000000</td>\n",
              "    </tr>\n",
              "    <tr>\n",
              "      <th>75%</th>\n",
              "      <td>46070.000000</td>\n",
              "      <td>48162.000000</td>\n",
              "      <td>57823.000000</td>\n",
              "      <td>71565.000000</td>\n",
              "      <td>78958.500000</td>\n",
              "      <td>97417.000000</td>\n",
              "    </tr>\n",
              "    <tr>\n",
              "      <th>max</th>\n",
              "      <td>85351.000000</td>\n",
              "      <td>89404.000000</td>\n",
              "      <td>108528.000000</td>\n",
              "      <td>134395.000000</td>\n",
              "      <td>141764.000000</td>\n",
              "      <td>170417.000000</td>\n",
              "    </tr>\n",
              "  </tbody>\n",
              "</table>\n",
              "</div>\n",
              "      <button class=\"colab-df-convert\" onclick=\"convertToInteractive('df-679446ff-9385-45bb-8841-f48dbaa5f81f')\"\n",
              "              title=\"Convert this dataframe to an interactive table.\"\n",
              "              style=\"display:none;\">\n",
              "        \n",
              "  <svg xmlns=\"http://www.w3.org/2000/svg\" height=\"24px\"viewBox=\"0 0 24 24\"\n",
              "       width=\"24px\">\n",
              "    <path d=\"M0 0h24v24H0V0z\" fill=\"none\"/>\n",
              "    <path d=\"M18.56 5.44l.94 2.06.94-2.06 2.06-.94-2.06-.94-.94-2.06-.94 2.06-2.06.94zm-11 1L8.5 8.5l.94-2.06 2.06-.94-2.06-.94L8.5 2.5l-.94 2.06-2.06.94zm10 10l.94 2.06.94-2.06 2.06-.94-2.06-.94-.94-2.06-.94 2.06-2.06.94z\"/><path d=\"M17.41 7.96l-1.37-1.37c-.4-.4-.92-.59-1.43-.59-.52 0-1.04.2-1.43.59L10.3 9.45l-7.72 7.72c-.78.78-.78 2.05 0 2.83L4 21.41c.39.39.9.59 1.41.59.51 0 1.02-.2 1.41-.59l7.78-7.78 2.81-2.81c.8-.78.8-2.07 0-2.86zM5.41 20L4 18.59l7.72-7.72 1.47 1.35L5.41 20z\"/>\n",
              "  </svg>\n",
              "      </button>\n",
              "      \n",
              "  <style>\n",
              "    .colab-df-container {\n",
              "      display:flex;\n",
              "      flex-wrap:wrap;\n",
              "      gap: 12px;\n",
              "    }\n",
              "\n",
              "    .colab-df-convert {\n",
              "      background-color: #E8F0FE;\n",
              "      border: none;\n",
              "      border-radius: 50%;\n",
              "      cursor: pointer;\n",
              "      display: none;\n",
              "      fill: #1967D2;\n",
              "      height: 32px;\n",
              "      padding: 0 0 0 0;\n",
              "      width: 32px;\n",
              "    }\n",
              "\n",
              "    .colab-df-convert:hover {\n",
              "      background-color: #E2EBFA;\n",
              "      box-shadow: 0px 1px 2px rgba(60, 64, 67, 0.3), 0px 1px 3px 1px rgba(60, 64, 67, 0.15);\n",
              "      fill: #174EA6;\n",
              "    }\n",
              "\n",
              "    [theme=dark] .colab-df-convert {\n",
              "      background-color: #3B4455;\n",
              "      fill: #D2E3FC;\n",
              "    }\n",
              "\n",
              "    [theme=dark] .colab-df-convert:hover {\n",
              "      background-color: #434B5C;\n",
              "      box-shadow: 0px 1px 3px 1px rgba(0, 0, 0, 0.15);\n",
              "      filter: drop-shadow(0px 1px 2px rgba(0, 0, 0, 0.3));\n",
              "      fill: #FFFFFF;\n",
              "    }\n",
              "  </style>\n",
              "\n",
              "      <script>\n",
              "        const buttonEl =\n",
              "          document.querySelector('#df-679446ff-9385-45bb-8841-f48dbaa5f81f button.colab-df-convert');\n",
              "        buttonEl.style.display =\n",
              "          google.colab.kernel.accessAllowed ? 'block' : 'none';\n",
              "\n",
              "        async function convertToInteractive(key) {\n",
              "          const element = document.querySelector('#df-679446ff-9385-45bb-8841-f48dbaa5f81f');\n",
              "          const dataTable =\n",
              "            await google.colab.kernel.invokeFunction('convertToInteractive',\n",
              "                                                     [key], {});\n",
              "          if (!dataTable) return;\n",
              "\n",
              "          const docLinkHtml = 'Like what you see? Visit the ' +\n",
              "            '<a target=\"_blank\" href=https://colab.research.google.com/notebooks/data_table.ipynb>data table notebook</a>'\n",
              "            + ' to learn more about interactive tables.';\n",
              "          element.innerHTML = '';\n",
              "          dataTable['output_type'] = 'display_data';\n",
              "          await google.colab.output.renderOutput(dataTable, element);\n",
              "          const docLink = document.createElement('div');\n",
              "          docLink.innerHTML = docLinkHtml;\n",
              "          element.appendChild(docLink);\n",
              "        }\n",
              "      </script>\n",
              "    </div>\n",
              "  </div>\n",
              "  "
            ]
          },
          "metadata": {},
          "execution_count": 14
        }
      ]
    },
    {
      "cell_type": "code",
      "source": [
        "sns.countplot()\n"
      ],
      "metadata": {
        "colab": {
          "base_uri": "https://localhost:8080/",
          "height": 285
        },
        "id": "DNIMWhm_FYio",
        "outputId": "9b1d1e84-bdb6-4d22-83a4-87e9386807c0"
      },
      "id": "DNIMWhm_FYio",
      "execution_count": 16,
      "outputs": [
        {
          "output_type": "execute_result",
          "data": {
            "text/plain": [
              "<AxesSubplot:ylabel='count'>"
            ]
          },
          "metadata": {},
          "execution_count": 16
        },
        {
          "output_type": "display_data",
          "data": {
            "text/plain": [
              "<Figure size 432x288 with 1 Axes>"
            ],
            "image/png": "[encoded data removed]"
          },
          "metadata": {}
        }
      ]
    },
    {
      "cell_type": "code",
      "source": [
        "df.isnull().sum()"
      ],
      "metadata": {
        "colab": {
          "base_uri": "https://localhost:8080/"
        },
        "id": "Ldx2nXfAGiv5",
        "outputId": "77eda19b-e120-4882-b673-5c31e1cfa269"
      },
      "id": "Ldx2nXfAGiv5",
      "execution_count": 17,
      "outputs": [
        {
          "output_type": "execute_result",
          "data": {
            "text/plain": [
              "Fields     0\n",
              "2007/08    0\n",
              "2008/09    0\n",
              "2009/10    0\n",
              "2010/11    0\n",
              "2011/12    0\n",
              "2012/13    0\n",
              "dtype: int64"
            ]
          },
          "metadata": {},
          "execution_count": 17
        }
      ]
    },
    {
      "cell_type": "code",
      "source": [
        "df.dtypes"
      ],
      "metadata": {
        "colab": {
          "base_uri": "https://localhost:8080/"
        },
        "id": "W3_8jXWNGq0s",
        "outputId": "af082194-4504-40a7-831c-a5cb7cc2589a"
      },
      "id": "W3_8jXWNGq0s",
      "execution_count": 18,
      "outputs": [
        {
          "output_type": "execute_result",
          "data": {
            "text/plain": [
              "Fields     object\n",
              "2007/08     int64\n",
              "2008/09     int64\n",
              "2009/10     int64\n",
              "2010/11     int64\n",
              "2011/12     int64\n",
              "2012/13     int64\n",
              "dtype: object"
            ]
          },
          "metadata": {},
          "execution_count": 18
        }
      ]
    },
    {
      "cell_type": "code",
      "source": [
        "df['2007/08']"
      ],
      "metadata": {
        "colab": {
          "base_uri": "https://localhost:8080/"
        },
        "id": "tUYrmdgGG8Zw",
        "outputId": "e6db31d2-52e2-4558-afda-a6eac3cb6caa"
      },
      "id": "tUYrmdgGG8Zw",
      "execution_count": 22,
      "outputs": [
        {
          "output_type": "execute_result",
          "data": {
            "text/plain": [
              "0     4967\n",
              "1     6789\n",
              "2    85351\n",
              "Name: 2007/08, dtype: int64"
            ]
          },
          "metadata": {},
          "execution_count": 22
        }
      ]
    },
    {
      "cell_type": "code",
      "source": [
        "df.corr()\n"
      ],
      "metadata": {
        "colab": {
          "base_uri": "https://localhost:8080/",
          "height": 238
        },
        "id": "NwuFAiXJHoVJ",
        "outputId": "0f9897fd-4440-4719-a3c3-f6a60b32ac88"
      },
      "id": "NwuFAiXJHoVJ",
      "execution_count": 23,
      "outputs": [
        {
          "output_type": "execute_result",
          "data": {
            "text/plain": [
              "          2007/08   2008/09   2009/10   2010/11   2011/12   2012/13\n",
              "2007/08  1.000000  0.999976  0.999792  0.999910  0.998851  0.996952\n",
              "2008/09  0.999976  1.000000  0.999625  0.999792  0.999161  0.997472\n",
              "2009/10  0.999792  0.999625  1.000000  0.999976  0.997666  0.995154\n",
              "2010/11  0.999910  0.999792  0.999976  1.000000  0.998119  0.995817\n",
              "2011/12  0.998851  0.999161  0.997666  0.998119  1.000000  0.999545\n",
              "2012/13  0.996952  0.997472  0.995154  0.995817  0.999545  1.000000"
            ],
            "text/html": [
              "\n",
              "  <div id=\"df-d0048f14-44ba-40cb-889e-5b6b2075c51d\">\n",
              "    <div class=\"colab-df-container\">\n",
              "      <div>\n",
              "<style scoped>\n",
              "    .dataframe tbody tr th:only-of-type {\n",
              "        vertical-align: middle;\n",
              "    }\n",
              "\n",
              "    .dataframe tbody tr th {\n",
              "        vertical-align: top;\n",
              "    }\n",
              "\n",
              "    .dataframe thead th {\n",
              "        text-align: right;\n",
              "    }\n",
              "</style>\n",
              "<table border=\"1\" class=\"dataframe\">\n",
              "  <thead>\n",
              "    <tr style=\"text-align: right;\">\n",
              "      <th></th>\n",
              "      <th>2007/08</th>\n",
              "      <th>2008/09</th>\n",
              "      <th>2009/10</th>\n",
              "      <th>2010/11</th>\n",
              "      <th>2011/12</th>\n",
              "      <th>2012/13</th>\n",
              "    </tr>\n",
              "  </thead>\n",
              "  <tbody>\n",
              "    <tr>\n",
              "      <th>2007/08</th>\n",
              "      <td>1.000000</td>\n",
              "      <td>0.999976</td>\n",
              "      <td>0.999792</td>\n",
              "      <td>0.999910</td>\n",
              "      <td>0.998851</td>\n",
              "      <td>0.996952</td>\n",
              "    </tr>\n",
              "    <tr>\n",
              "      <th>2008/09</th>\n",
              "      <td>0.999976</td>\n",
              "      <td>1.000000</td>\n",
              "      <td>0.999625</td>\n",
              "      <td>0.999792</td>\n",
              "      <td>0.999161</td>\n",
              "      <td>0.997472</td>\n",
              "    </tr>\n",
              "    <tr>\n",
              "      <th>2009/10</th>\n",
              "      <td>0.999792</td>\n",
              "      <td>0.999625</td>\n",
              "      <td>1.000000</td>\n",
              "      <td>0.999976</td>\n",
              "      <td>0.997666</td>\n",
              "      <td>0.995154</td>\n",
              "    </tr>\n",
              "    <tr>\n",
              "      <th>2010/11</th>\n",
              "      <td>0.999910</td>\n",
              "      <td>0.999792</td>\n",
              "      <td>0.999976</td>\n",
              "      <td>1.000000</td>\n",
              "      <td>0.998119</td>\n",
              "      <td>0.995817</td>\n",
              "    </tr>\n",
              "    <tr>\n",
              "      <th>2011/12</th>\n",
              "      <td>0.998851</td>\n",
              "      <td>0.999161</td>\n",
              "      <td>0.997666</td>\n",
              "      <td>0.998119</td>\n",
              "      <td>1.000000</td>\n",
              "      <td>0.999545</td>\n",
              "    </tr>\n",
              "    <tr>\n",
              "      <th>2012/13</th>\n",
              "      <td>0.996952</td>\n",
              "      <td>0.997472</td>\n",
              "      <td>0.995154</td>\n",
              "      <td>0.995817</td>\n",
              "      <td>0.999545</td>\n",
              "      <td>1.000000</td>\n",
              "    </tr>\n",
              "  </tbody>\n",
              "</table>\n",
              "</div>\n",
              "      <button class=\"colab-df-convert\" onclick=\"convertToInteractive('df-d0048f14-44ba-40cb-889e-5b6b2075c51d')\"\n",
              "              title=\"Convert this dataframe to an interactive table.\"\n",
              "              style=\"display:none;\">\n",
              "        \n",
              "  <svg xmlns=\"http://www.w3.org/2000/svg\" height=\"24px\"viewBox=\"0 0 24 24\"\n",
              "       width=\"24px\">\n",
              "    <path d=\"M0 0h24v24H0V0z\" fill=\"none\"/>\n",
              "    <path d=\"M18.56 5.44l.94 2.06.94-2.06 2.06-.94-2.06-.94-.94-2.06-.94 2.06-2.06.94zm-11 1L8.5 8.5l.94-2.06 2.06-.94-2.06-.94L8.5 2.5l-.94 2.06-2.06.94zm10 10l.94 2.06.94-2.06 2.06-.94-2.06-.94-.94-2.06-.94 2.06-2.06.94z\"/><path d=\"M17.41 7.96l-1.37-1.37c-.4-.4-.92-.59-1.43-.59-.52 0-1.04.2-1.43.59L10.3 9.45l-7.72 7.72c-.78.78-.78 2.05 0 2.83L4 21.41c.39.39.9.59 1.41.59.51 0 1.02-.2 1.41-.59l7.78-7.78 2.81-2.81c.8-.78.8-2.07 0-2.86zM5.41 20L4 18.59l7.72-7.72 1.47 1.35L5.41 20z\"/>\n",
              "  </svg>\n",
              "      </button>\n",
              "      \n",
              "  <style>\n",
              "    .colab-df-container {\n",
              "      display:flex;\n",
              "      flex-wrap:wrap;\n",
              "      gap: 12px;\n",
              "    }\n",
              "\n",
              "    .colab-df-convert {\n",
              "      background-color: #E8F0FE;\n",
              "      border: none;\n",
              "      border-radius: 50%;\n",
              "      cursor: pointer;\n",
              "      display: none;\n",
              "      fill: #1967D2;\n",
              "      height: 32px;\n",
              "      padding: 0 0 0 0;\n",
              "      width: 32px;\n",
              "    }\n",
              "\n",
              "    .colab-df-convert:hover {\n",
              "      background-color: #E2EBFA;\n",
              "      box-shadow: 0px 1px 2px rgba(60, 64, 67, 0.3), 0px 1px 3px 1px rgba(60, 64, 67, 0.15);\n",
              "      fill: #174EA6;\n",
              "    }\n",
              "\n",
              "    [theme=dark] .colab-df-convert {\n",
              "      background-color: #3B4455;\n",
              "      fill: #D2E3FC;\n",
              "    }\n",
              "\n",
              "    [theme=dark] .colab-df-convert:hover {\n",
              "      background-color: #434B5C;\n",
              "      box-shadow: 0px 1px 3px 1px rgba(0, 0, 0, 0.15);\n",
              "      filter: drop-shadow(0px 1px 2px rgba(0, 0, 0, 0.3));\n",
              "      fill: #FFFFFF;\n",
              "    }\n",
              "  </style>\n",
              "\n",
              "      <script>\n",
              "        const buttonEl =\n",
              "          document.querySelector('#df-d0048f14-44ba-40cb-889e-5b6b2075c51d button.colab-df-convert');\n",
              "        buttonEl.style.display =\n",
              "          google.colab.kernel.accessAllowed ? 'block' : 'none';\n",
              "\n",
              "        async function convertToInteractive(key) {\n",
              "          const element = document.querySelector('#df-d0048f14-44ba-40cb-889e-5b6b2075c51d');\n",
              "          const dataTable =\n",
              "            await google.colab.kernel.invokeFunction('convertToInteractive',\n",
              "                                                     [key], {});\n",
              "          if (!dataTable) return;\n",
              "\n",
              "          const docLinkHtml = 'Like what you see? Visit the ' +\n",
              "            '<a target=\"_blank\" href=https://colab.research.google.com/notebooks/data_table.ipynb>data table notebook</a>'\n",
              "            + ' to learn more about interactive tables.';\n",
              "          element.innerHTML = '';\n",
              "          dataTable['output_type'] = 'display_data';\n",
              "          await google.colab.output.renderOutput(dataTable, element);\n",
              "          const docLink = document.createElement('div');\n",
              "          docLink.innerHTML = docLinkHtml;\n",
              "          element.appendChild(docLink);\n",
              "        }\n",
              "      </script>\n",
              "    </div>\n",
              "  </div>\n",
              "  "
            ]
          },
          "metadata": {},
          "execution_count": 23
        }
      ]
    },
    {
      "cell_type": "code",
      "source": [
        "sns.heatmap(df.corr())"
      ],
      "metadata": {
        "colab": {
          "base_uri": "https://localhost:8080/",
          "height": 324
        },
        "id": "6CwtmC0cH4OL",
        "outputId": "982be585-f7e2-4d84-b16b-07edd2088427"
      },
      "id": "6CwtmC0cH4OL",
      "execution_count": 24,
      "outputs": [
        {
          "output_type": "execute_result",
          "data": {
            "text/plain": [
              "<AxesSubplot:>"
            ]
          },
          "metadata": {},
          "execution_count": 24
        },
        {
          "output_type": "display_data",
          "data": {
            "text/plain": [
              "<Figure size 432x288 with 2 Axes>"
            ],
            "image/png": "[encoded data removed]"
          },
          "metadata": {}
        }
      ]
    }
  ],
  "metadata": {
    "colab": {
      "provenance": [],
      "include_colab_link": true
    },
    "kernelspec": {
      "display_name": "Python 3 (ipykernel)",
      "language": "python",
      "name": "python3"
    },
    "language_info": {
      "name": "python",
      "version": "3.8.10",
      "mimetype": "text/x-python",
      "codemirror_mode": {
        "name": "ipython",
        "version": 3
      },
      "pygments_lexer": "ipython3",
      "nbconvert_exporter": "python",
      "file_extension": ".py"
    },
    "editor": "DataCamp Workspace"
  },
  "nbformat": 4,
  "nbformat_minor": 5
}